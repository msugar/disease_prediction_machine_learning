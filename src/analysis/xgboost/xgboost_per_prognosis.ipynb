{
 "cells": [
  {
   "cell_type": "code",
   "execution_count": null,
   "metadata": {},
   "outputs": [],
   "source": [
    "# %%\n",
    "from pathlib import Path\n",
    "import pandas as pd\n",
    "import numpy as np\n",
    "from xgboost import XGBClassifier\n",
    "from sklearn.preprocessing import LabelEncoder\n",
    "from sklearn.model_selection import train_test_split\n",
    "from sklearn.metrics import accuracy_score, precision_score, recall_score, f1_score, roc_auc_score\n",
    "import matplotlib.pyplot as plt\n"
   ]
  },
  {
   "cell_type": "code",
   "execution_count": null,
   "metadata": {},
   "outputs": [],
   "source": [
    "# %% Find data folder\n",
    "def find_directory(target_dir):\n",
    "    return next((p / target_dir for p in Path.cwd().parents if (p / target_dir).is_dir()), None) or Path(target_dir)\n",
    "\n",
    "# Define the path to the data folder\n",
    "data_dir = find_directory('data')\n",
    "print(f'{data_dir=}')\n"
   ]
  },
  {
   "cell_type": "code",
   "execution_count": null,
   "metadata": {},
   "outputs": [],
   "source": [
    "# %%\n",
    "# Load the data\n",
    "raw_data_dir = data_dir / 'raw'\n",
    "train_data = pd.read_csv(raw_data_dir / 'Training.csv') \n",
    "test_data = pd.read_csv(raw_data_dir / 'Testing.csv')\n"
   ]
  },
  {
   "cell_type": "code",
   "execution_count": null,
   "metadata": {},
   "outputs": [],
   "source": [
    "# %%\n",
    "# Drop unnamed last column containing all NaNs\n",
    "train_data.dropna(how='all', axis='columns', inplace=True)\n",
    "assert train_data.shape == (4920,133), \"Training data should have 4920 rows and 133 cols after all NaNs col is removed\"\n",
    "print(train_data.columns)\n"
   ]
  },
  {
   "cell_type": "code",
   "execution_count": null,
   "metadata": {},
   "outputs": [],
   "source": [
    "# %%\n",
    "# Separate features and labels\n",
    "label_col = \"prognosis\"\n",
    "X_train = train_data.drop(label_col, axis=1)\n",
    "y_train = train_data[label_col]\n",
    "X_test = test_data.drop(label_col, axis=1)\n",
    "y_test = test_data[label_col]\n"
   ]
  },
  {
   "cell_type": "code",
   "execution_count": null,
   "metadata": {},
   "outputs": [],
   "source": [
    "# %%\n",
    "# Encode prognoses\n",
    "le = LabelEncoder()\n",
    "y_train_encoded = le.fit_transform(y_train)\n",
    "y_test_encoded = le.transform(y_test)\n"
   ]
  },
  {
   "cell_type": "code",
   "execution_count": null,
   "metadata": {},
   "outputs": [],
   "source": [
    "# %%\n",
    "# Train a model for each prognosis and evaluate\n",
    "prognoses = le.classes_\n",
    "n_prognoses = len(prognoses)\n",
    "models = []\n",
    "evaluation_results = []\n",
    "\n",
    "for i in range(n_prognoses):\n",
    "    prognosis_name = prognoses[i]\n",
    "    print(f\"Training and evaluating model for: {prognosis_name}\")\n",
    "    \n",
    "    # Create binary target: 1 for current prognosis, 0 for others\n",
    "    y_train_binary = (y_train_encoded == i).astype(int)\n",
    "    y_test_binary = (y_test_encoded == i).astype(int)\n",
    "    \n",
    "    # Train XGBoost model\n",
    "    model = XGBClassifier(eval_metric='logloss')\n",
    "    model.fit(X_train, y_train_binary)\n",
    "    models.append(model)\n",
    "    \n",
    "    # Make predictions\n",
    "    y_pred = model.predict(X_test)\n",
    "    y_pred_proba = model.predict_proba(X_test)[:, 1]\n",
    "    \n",
    "    # Evaluate model\n",
    "    accuracy = accuracy_score(y_test_binary, y_pred)\n",
    "    precision = precision_score(y_test_binary, y_pred, zero_division=0)\n",
    "    recall = recall_score(y_test_binary, y_pred, zero_division=0)\n",
    "    f1 = f1_score(y_test_binary, y_pred, zero_division=0)\n",
    "    auc_roc = roc_auc_score(y_test_binary, y_pred_proba)\n",
    "    \n",
    "    evaluation_results.append({\n",
    "        'Prognosis': prognosis_name,\n",
    "        'Accuracy': accuracy,\n",
    "        'Precision': precision,\n",
    "        'Recall': recall,\n",
    "        'F1-Score': f1,\n",
    "        'AUC-ROC': auc_roc\n",
    "    })\n"
   ]
  },
  {
   "cell_type": "code",
   "execution_count": null,
   "metadata": {},
   "outputs": [],
   "source": [
    "# %%\n",
    "# Convert evaluation results to DataFrame\n",
    "eval_df = pd.DataFrame(evaluation_results)\n",
    "print(eval_df)\n"
   ]
  },
  {
   "cell_type": "code",
   "execution_count": null,
   "metadata": {},
   "outputs": [],
   "source": [
    "# %%\n",
    "# Function to plot top N important features for a prognosis\n",
    "def plot_top_features(model, prognosis_name, n=10):\n",
    "    importances = model.feature_importances_\n",
    "    indices = np.argsort(importances)[::-1]\n",
    "    top_features = X_train.columns[indices[:n]]\n",
    "    \n",
    "    plt.figure(figsize=(10, 6))\n",
    "    plt.title(f\"Top {n} Important Symptoms for {prognosis_name}\")\n",
    "    plt.bar(range(n), importances[indices[:n]])\n",
    "    plt.xticks(range(n), top_features, rotation=90)\n",
    "    plt.tight_layout()\n",
    "    plt.show()\n",
    "\n",
    "# Plot top features for each prognosis\n",
    "for prognosis, model in zip(prognoses, models):\n",
    "    plot_top_features(model, prognosis)\n"
   ]
  },
  {
   "cell_type": "code",
   "execution_count": null,
   "metadata": {},
   "outputs": [],
   "source": [
    "# %%\n",
    "# Save evaluation results and feature importances\n",
    "output_dir = data_dir / 'analysis' / 'xgboost'\n",
    "eval_df.to_csv(output_dir / 'prognosis_model_evaluations.csv', index=False)\n",
    "all_importances = pd.DataFrame(\n",
    "    {prognosis: model.feature_importances_ for prognosis, model in zip(prognoses, models)},\n",
    "    index=X_train.columns\n",
    ")\n",
    "all_importances.to_csv(output_dir / 'symptom_importances_by_prognosis.csv')\n",
    "\n",
    "\n"
   ]
  }
 ],
 "metadata": {
  "language_info": {
   "codemirror_mode": {
    "name": "ipython",
    "version": 3
   },
   "file_extension": ".py",
   "mimetype": "text/x-python",
   "name": "python",
   "nbconvert_exporter": "python",
   "pygments_lexer": "ipython3",
   "version": 3
  }
 },
 "nbformat": 4,
 "nbformat_minor": 2
}
